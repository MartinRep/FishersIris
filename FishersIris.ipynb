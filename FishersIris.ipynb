{
 "cells": [
  {
   "cell_type": "markdown",
   "metadata": {},
   "source": [
    "## Jupyter noteboook - Iris flower data set.\n",
    "\n",
    "### Iris flower data set\n",
    "Iris data set is a outcome set of multitude variables of mesurements, which makes it a numerical continuous data set. Edgar Anderson (*1897 - †1969) was a geneticist who collected the data to quantify the morphologic variation of Iris flower of three related species. The data set consist of 50 samples from each of the three species of Iris flower. Four features were measured from each sample. These were the lenght of the sepals and petals and width of sepals and petals. All measurements are in centimeteres. Edgar used these measurements to develop a linear discrimination model to disnquish the species from each other. Data set is ofter reffered as Anderson's Iris data set because of Edgars Anderson.\n"
   ]
  },
  {
   "cell_type": "code",
   "execution_count": null,
   "metadata": {},
   "outputs": [],
   "source": []
  }
 ],
 "metadata": {
  "kernelspec": {
   "display_name": "Python 3",
   "language": "python",
   "name": "python3"
  },
  "language_info": {
   "codemirror_mode": {
    "name": "ipython",
    "version": 3
   },
   "file_extension": ".py",
   "mimetype": "text/x-python",
   "name": "python",
   "nbconvert_exporter": "python",
   "pygments_lexer": "ipython3",
   "version": "3.5.2"
  }
 },
 "nbformat": 4,
 "nbformat_minor": 2
}
